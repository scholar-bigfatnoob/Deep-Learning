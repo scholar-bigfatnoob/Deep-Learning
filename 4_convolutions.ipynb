{
 "cells": [
  {
   "cell_type": "markdown",
   "metadata": {
    "colab_type": "text",
    "id": "4embtkV0pNxM"
   },
   "source": [
    "Deep Learning\n",
    "=============\n",
    "\n",
    "Assignment 4\n",
    "------------\n",
    "\n",
    "Previously in `2_fullyconnected.ipynb` and `3_regularization.ipynb`, we trained fully connected networks to classify [notMNIST](http://yaroslavvb.blogspot.com/2011/09/notmnist-dataset.html) characters.\n",
    "\n",
    "The goal of this assignment is make the neural network convolutional."
   ]
  },
  {
   "cell_type": "code",
   "execution_count": 2,
   "metadata": {
    "cellView": "both",
    "colab": {
     "autoexec": {
      "startup": false,
      "wait_interval": 0
     }
    },
    "colab_type": "code",
    "collapsed": true,
    "id": "tm2CQN_Cpwj0"
   },
   "outputs": [],
   "source": [
    "# These are all the modules we'll be using later. Make sure you can import them\n",
    "# before proceeding further.\n",
    "from __future__ import print_function\n",
    "import numpy as np\n",
    "import tensorflow as tf\n",
    "from six.moves import cPickle as pickle\n",
    "from six.moves import range"
   ]
  },
  {
   "cell_type": "code",
   "execution_count": 4,
   "metadata": {
    "cellView": "both",
    "colab": {
     "autoexec": {
      "startup": false,
      "wait_interval": 0
     },
     "output_extras": [
      {
       "item_id": 1
      }
     ]
    },
    "colab_type": "code",
    "collapsed": false,
    "executionInfo": {
     "elapsed": 11948,
     "status": "ok",
     "timestamp": 1446658914837,
     "user": {
      "color": "",
      "displayName": "",
      "isAnonymous": false,
      "isMe": true,
      "permissionId": "",
      "photoUrl": "",
      "sessionId": "0",
      "userId": ""
     },
     "user_tz": 480
    },
    "id": "y3-cj1bpmuxc",
    "outputId": "016b1a51-0290-4b08-efdb-8c95ffc3cd01"
   },
   "outputs": [
    {
     "name": "stdout",
     "output_type": "stream",
     "text": [
      "Training set (200000, 28, 28) (200000,)\n",
      "Validation set (10000, 28, 28) (10000,)\n",
      "Test set (10000, 28, 28) (10000,)\n"
     ]
    }
   ],
   "source": [
    "pickle_file = 'data/notMNIST.pkl'\n",
    "\n",
    "with open(pickle_file, 'rb') as f:\n",
    "  save = pickle.load(f)\n",
    "  train_dataset = save['train_dataset']\n",
    "  train_labels = save['train_labels']\n",
    "  valid_dataset = save['valid_dataset']\n",
    "  valid_labels = save['valid_labels']\n",
    "  test_dataset = save['test_dataset']\n",
    "  test_labels = save['test_labels']\n",
    "  del save  # hint to help gc free up memory\n",
    "  print('Training set', train_dataset.shape, train_labels.shape)\n",
    "  print('Validation set', valid_dataset.shape, valid_labels.shape)\n",
    "  print('Test set', test_dataset.shape, test_labels.shape)"
   ]
  },
  {
   "cell_type": "markdown",
   "metadata": {
    "colab_type": "text",
    "id": "L7aHrm6nGDMB"
   },
   "source": [
    "Reformat into a TensorFlow-friendly shape:\n",
    "- convolutions need the image data formatted as a cube (width by height by #channels)\n",
    "- labels as float 1-hot encodings."
   ]
  },
  {
   "cell_type": "code",
   "execution_count": 5,
   "metadata": {
    "cellView": "both",
    "colab": {
     "autoexec": {
      "startup": false,
      "wait_interval": 0
     },
     "output_extras": [
      {
       "item_id": 1
      }
     ]
    },
    "colab_type": "code",
    "collapsed": false,
    "executionInfo": {
     "elapsed": 11952,
     "status": "ok",
     "timestamp": 1446658914857,
     "user": {
      "color": "",
      "displayName": "",
      "isAnonymous": false,
      "isMe": true,
      "permissionId": "",
      "photoUrl": "",
      "sessionId": "0",
      "userId": ""
     },
     "user_tz": 480
    },
    "id": "IRSyYiIIGIzS",
    "outputId": "650a208c-8359-4852-f4f5-8bf10e80ef6c"
   },
   "outputs": [
    {
     "name": "stdout",
     "output_type": "stream",
     "text": [
      "Training set (200000, 28, 28, 1) (200000, 10)\n",
      "Validation set (10000, 28, 28, 1) (10000, 10)\n",
      "Test set (10000, 28, 28, 1) (10000, 10)\n"
     ]
    }
   ],
   "source": [
    "IMAGE_SIZE = 28\n",
    "NUM_LABELS = 10\n",
    "NUM_CHANNELS = 1 #greyscale\n",
    "\n",
    "\n",
    "def reformat(dataset, labels):\n",
    "  dataset = np.reshape(dataset, (-1, IMAGE_SIZE, IMAGE_SIZE, NUM_CHANNELS)).astype(np.float32)\n",
    "  labels = (np.arange(NUM_LABELS) == labels[:, None]).astype(np.float32)\n",
    "  return dataset, labels\n",
    "train_dataset, train_labels = reformat(train_dataset, train_labels)\n",
    "valid_dataset, valid_labels = reformat(valid_dataset, valid_labels)\n",
    "test_dataset, test_labels = reformat(test_dataset, test_labels)\n",
    "print('Training set', train_dataset.shape, train_labels.shape)\n",
    "print('Validation set', valid_dataset.shape, valid_labels.shape)\n",
    "print('Test set', test_dataset.shape, test_labels.shape)"
   ]
  },
  {
   "cell_type": "code",
   "execution_count": 6,
   "metadata": {
    "cellView": "both",
    "colab": {
     "autoexec": {
      "startup": false,
      "wait_interval": 0
     }
    },
    "colab_type": "code",
    "collapsed": true,
    "id": "AgQDIREv02p1"
   },
   "outputs": [],
   "source": [
    "def accuracy(predictions, labels):\n",
    "  return (100.0 * np.sum(np.argmax(predictions, 1) == np.argmax(labels, 1))\n",
    "          / predictions.shape[0])"
   ]
  },
  {
   "cell_type": "markdown",
   "metadata": {
    "colab_type": "text",
    "id": "5rhgjmROXu2O"
   },
   "source": [
    "Let's build a small network with two convolutional layers, followed by one fully connected layer. Convolutional networks are more expensive computationally, so we'll limit its depth and number of fully connected nodes."
   ]
  },
  {
   "cell_type": "code",
   "execution_count": 9,
   "metadata": {
    "collapsed": true
   },
   "outputs": [],
   "source": [
    "BATCH_SIZE = 16\n",
    "PATCH_SIZE = 5\n",
    "DEPTH = 16\n",
    "NUM_HIDDEN = 64"
   ]
  },
  {
   "cell_type": "code",
   "execution_count": 12,
   "metadata": {
    "cellView": "both",
    "colab": {
     "autoexec": {
      "startup": false,
      "wait_interval": 0
     }
    },
    "colab_type": "code",
    "collapsed": true,
    "id": "IZYv70SvvOan"
   },
   "outputs": [],
   "source": [
    "def cnn_2_layers(tf_train_dataset, tf_train_labels, tf_valid_dataset, tf_test_dataset):\n",
    "  # Variables\n",
    "  ## First Convolution Layer\n",
    "  layer1_weights = tf.Variable(tf.truncated_normal([PATCH_SIZE, PATCH_SIZE, NUM_CHANNELS, DEPTH], stddev=0.1))\n",
    "  layer1_bias = tf.Variable(tf.zeros([DEPTH]))\n",
    "  ## Second Convolution Layer\n",
    "  layer2_weights = tf.Variable(tf.truncated_normal([PATCH_SIZE, PATCH_SIZE, DEPTH, DEPTH], stddev=0.1))\n",
    "  layer2_bias = tf.Variable(tf.constant(1.0, shape=[DEPTH]))\n",
    "  ## Fully Connected Layer\n",
    "  layer3_weights = tf.Variable(tf.truncated_normal([IMAGE_SIZE // 4 * IMAGE_SIZE // 4 * DEPTH, NUM_HIDDEN], stddev=0.1))\n",
    "  layer3_bias = tf.Variable(tf.constant(1.0, shape=[NUM_HIDDEN]))\n",
    "  ## Output Layer\n",
    "  layer4_weights = tf.Variable(tf.truncated_normal([NUM_HIDDEN, NUM_LABELS], stddev=0.1))\n",
    "  layer4_bias = tf.Variable(tf.constant(1.0, shape=[NUM_LABELS]))\n",
    "\n",
    "  # Model\n",
    "  def model(data):\n",
    "    conv1 = tf.nn.conv2d(data, layer1_weights, strides=[1, 2, 2, 1], padding='SAME')\n",
    "    hidden1 = tf.nn.relu(conv1 + layer1_bias)\n",
    "    conv2 = tf.nn.conv2d(hidden1, layer2_weights, strides=[1, 2, 2, 1], padding='SAME')\n",
    "    hidden2 = tf.nn.relu(conv2 + layer2_bias)\n",
    "    fcc_shape = hidden2.get_shape().as_list()\n",
    "    hidden2 = tf.reshape(hidden2, [fcc_shape[0], fcc_shape[1] * fcc_shape[2] * fcc_shape[3]])\n",
    "    hidden3 = tf.nn.relu(tf.matmul(hidden2, layer3_weights) + layer3_bias)\n",
    "    return tf.matmul(hidden3, layer4_weights) + layer4_bias\n",
    "\n",
    "  # Training Computation\n",
    "  logits = model(tf_train_dataset)\n",
    "  loss = tf.reduce_mean(tf.nn.softmax_cross_entropy_with_logits(labels=tf_train_labels, logits=logits))\n",
    "\n",
    "  # Optimizer\n",
    "  optimizer = tf.train.GradientDescentOptimizer(0.05).minimize(loss)\n",
    "\n",
    "  # Predictions\n",
    "  train_predictions = tf.nn.softmax(logits)\n",
    "  test_predictions = tf.nn.softmax(model(tf_test_dataset))\n",
    "  valid_predictions = tf.nn.softmax(model(tf_valid_dataset))\n",
    "  return optimizer, loss, train_predictions, valid_predictions, test_predictions\n",
    "\n",
    "\n",
    "def conv_net(num_steps, cnn_type):\n",
    "  graph = tf.Graph()\n",
    "  with graph.as_default():\n",
    "    # Input\n",
    "    tf_train_dataset = tf.placeholder(tf.float32, shape=(BATCH_SIZE, IMAGE_SIZE, IMAGE_SIZE, NUM_CHANNELS))\n",
    "    tf_train_labels = tf.placeholder(tf.float32, shape=(BATCH_SIZE, NUM_LABELS))\n",
    "    tf_valid_dataset = tf.constant(valid_dataset)\n",
    "    tf_test_dataset = tf.constant(test_dataset)\n",
    "    optimizer, loss, train_predictions, valid_predictions, \\\n",
    "    test_predictions = cnn_type(tf_train_dataset, tf_train_labels, tf_valid_dataset, tf_test_dataset)\n",
    "\n",
    "  with tf.Session(graph=graph) as session:\n",
    "    tf.global_variables_initializer().run()\n",
    "    print(\"Initialized\")\n",
    "    for step in xrange(num_steps):\n",
    "      offset = (step * BATCH_SIZE) % (train_labels.shape[0] - BATCH_SIZE)\n",
    "      batch_data = train_dataset[offset:(offset + BATCH_SIZE), :, :, :]\n",
    "      batch_labels = train_labels[offset:(offset + BATCH_SIZE), :]\n",
    "      feed_dict = {tf_train_dataset: batch_data, tf_train_labels: batch_labels}\n",
    "      _, l, predictions = session.run([optimizer, loss, train_predictions], feed_dict=feed_dict)\n",
    "      if step % 50 == 0:\n",
    "        print('Minibatch loss at step %d: %f' % (step, l))\n",
    "        print('Minibatch accuracy: %.1f%%' % accuracy(predictions, batch_labels))\n",
    "        print('Validation accuracy: %.1f%%' % accuracy(valid_predictions.eval(), valid_labels))\n",
    "    print('Test accuracy: %.1f%%' % accuracy(test_predictions.eval(), test_labels))\n"
   ]
  },
  {
   "cell_type": "code",
   "execution_count": 13,
   "metadata": {
    "collapsed": false
   },
   "outputs": [
    {
     "name": "stdout",
     "output_type": "stream",
     "text": [
      "Initialized\n",
      "Minibatch loss at step 0: 3.128249\n",
      "Minibatch accuracy: 6.2%\n",
      "Validation accuracy: 10.3%\n",
      "Minibatch loss at step 50: 1.503863\n",
      "Minibatch accuracy: 50.0%\n",
      "Validation accuracy: 48.0%\n",
      "Minibatch loss at step 100: 0.988977\n",
      "Minibatch accuracy: 56.2%\n",
      "Validation accuracy: 68.6%\n",
      "Minibatch loss at step 150: 0.352969\n",
      "Minibatch accuracy: 93.8%\n",
      "Validation accuracy: 75.0%\n",
      "Minibatch loss at step 200: 1.010936\n",
      "Minibatch accuracy: 68.8%\n",
      "Validation accuracy: 78.5%\n",
      "Minibatch loss at step 250: 1.186480\n",
      "Minibatch accuracy: 62.5%\n",
      "Validation accuracy: 79.1%\n",
      "Minibatch loss at step 300: 0.347087\n",
      "Minibatch accuracy: 87.5%\n",
      "Validation accuracy: 79.0%\n",
      "Minibatch loss at step 350: 0.505745\n",
      "Minibatch accuracy: 93.8%\n",
      "Validation accuracy: 77.3%\n",
      "Minibatch loss at step 400: 0.258349\n",
      "Minibatch accuracy: 87.5%\n",
      "Validation accuracy: 80.0%\n",
      "Minibatch loss at step 450: 0.926782\n",
      "Minibatch accuracy: 75.0%\n",
      "Validation accuracy: 79.8%\n",
      "Minibatch loss at step 500: 0.885467\n",
      "Minibatch accuracy: 81.2%\n",
      "Validation accuracy: 80.9%\n",
      "Minibatch loss at step 550: 0.978356\n",
      "Minibatch accuracy: 75.0%\n",
      "Validation accuracy: 80.2%\n",
      "Minibatch loss at step 600: 0.287778\n",
      "Minibatch accuracy: 93.8%\n",
      "Validation accuracy: 81.6%\n",
      "Minibatch loss at step 650: 0.878977\n",
      "Minibatch accuracy: 81.2%\n",
      "Validation accuracy: 81.2%\n",
      "Minibatch loss at step 700: 0.757336\n",
      "Minibatch accuracy: 75.0%\n",
      "Validation accuracy: 82.1%\n",
      "Minibatch loss at step 750: 0.041818\n",
      "Minibatch accuracy: 100.0%\n",
      "Validation accuracy: 83.1%\n",
      "Minibatch loss at step 800: 0.608321\n",
      "Minibatch accuracy: 81.2%\n",
      "Validation accuracy: 82.3%\n",
      "Minibatch loss at step 850: 0.959018\n",
      "Minibatch accuracy: 75.0%\n",
      "Validation accuracy: 82.8%\n",
      "Minibatch loss at step 900: 0.711461\n",
      "Minibatch accuracy: 81.2%\n",
      "Validation accuracy: 83.2%\n",
      "Minibatch loss at step 950: 0.526904\n",
      "Minibatch accuracy: 81.2%\n",
      "Validation accuracy: 83.2%\n",
      "Minibatch loss at step 1000: 0.449214\n",
      "Minibatch accuracy: 87.5%\n",
      "Validation accuracy: 82.4%\n",
      "Test accuracy: 89.2%\n"
     ]
    }
   ],
   "source": [
    "NUM_STEPS = 1001\n",
    "conv_net(NUM_STEPS, cnn_2_layers)"
   ]
  },
  {
   "cell_type": "markdown",
   "metadata": {
    "colab_type": "text",
    "id": "KedKkn4EutIK"
   },
   "source": [
    "---\n",
    "Problem 1\n",
    "---------\n",
    "\n",
    "The convolutional model above uses convolutions with stride 2 to reduce the dimensionality. Replace the strides by a max pooling operation (`nn.max_pool()`) of stride 2 and kernel size 2.\n",
    "\n",
    "---"
   ]
  },
  {
   "cell_type": "code",
   "execution_count": 14,
   "metadata": {
    "collapsed": true
   },
   "outputs": [],
   "source": [
    "def cnn_2_layers_maxpool(tf_train_dataset, tf_train_labels, tf_valid_dataset, tf_test_dataset):\n",
    "  # Variables\n",
    "  ## First Convolution Layer\n",
    "  layer1_weights = tf.Variable(tf.truncated_normal([PATCH_SIZE, PATCH_SIZE, NUM_CHANNELS, DEPTH], stddev=0.1))\n",
    "  layer1_bias = tf.Variable(tf.zeros([DEPTH]))\n",
    "  ## Second Convolution Layer\n",
    "  layer2_weights = tf.Variable(tf.truncated_normal([PATCH_SIZE, PATCH_SIZE, DEPTH, DEPTH], stddev=0.1))\n",
    "  layer2_bias = tf.Variable(tf.constant(1.0, shape=[DEPTH]))\n",
    "  ## Fully Connected Layer\n",
    "  layer3_weights = tf.Variable(tf.truncated_normal([IMAGE_SIZE // 4 * IMAGE_SIZE // 4 * DEPTH, NUM_HIDDEN], stddev=0.1))\n",
    "  layer3_bias = tf.Variable(tf.constant(1.0, shape=[NUM_HIDDEN]))\n",
    "  ## Output Layer\n",
    "  layer4_weights = tf.Variable(tf.truncated_normal([NUM_HIDDEN, NUM_LABELS], stddev=0.1))\n",
    "  layer4_bias = tf.Variable(tf.constant(1.0, shape=[NUM_LABELS]))\n",
    "\n",
    "  # Model\n",
    "  def model(data):\n",
    "    conv1 = tf.nn.conv2d(data, layer1_weights, strides=[1, 1, 1, 1], padding='SAME')\n",
    "    hidden1 = tf.nn.relu(conv1 + layer1_bias)\n",
    "    hidden1 = tf.nn.max_pool(hidden1, ksize=[1, 2, 2, 1], strides=[1, 2, 2, 1], padding='SAME')\n",
    "    conv2 = tf.nn.conv2d(hidden1, layer2_weights, strides=[1, 1, 1, 1], padding='SAME')\n",
    "    hidden2 = tf.nn.relu(conv2 + layer2_bias)\n",
    "    hidden2 = tf.nn.max_pool(hidden2, ksize=[1, 2, 2, 1], strides=[1, 2, 2, 1], padding='SAME')\n",
    "    fcc_shape = hidden2.get_shape().as_list()\n",
    "    hidden2 = tf.reshape(hidden2, [fcc_shape[0], fcc_shape[1] * fcc_shape[2] * fcc_shape[3]])\n",
    "    hidden3 = tf.nn.relu(tf.matmul(hidden2, layer3_weights) + layer3_bias)\n",
    "    return tf.matmul(hidden3, layer4_weights) + layer4_bias\n",
    "\n",
    "  # Training Computation\n",
    "  logits = model(tf_train_dataset)\n",
    "  loss = tf.reduce_mean(tf.nn.softmax_cross_entropy_with_logits(labels=tf_train_labels, logits=logits))\n",
    "\n",
    "  # Optimizer\n",
    "  optimizer = tf.train.GradientDescentOptimizer(0.05).minimize(loss)\n",
    "\n",
    "  # Predictions\n",
    "  train_predictions = tf.nn.softmax(logits)\n",
    "  test_predictions = tf.nn.softmax(model(tf_test_dataset))\n",
    "  valid_predictions = tf.nn.softmax(model(tf_valid_dataset))\n",
    "  return optimizer, loss, train_predictions, valid_predictions, test_predictions"
   ]
  },
  {
   "cell_type": "code",
   "execution_count": 15,
   "metadata": {
    "collapsed": false
   },
   "outputs": [
    {
     "name": "stdout",
     "output_type": "stream",
     "text": [
      "Initialized\n",
      "Minibatch loss at step 0: 3.693719\n",
      "Minibatch accuracy: 6.2%\n",
      "Validation accuracy: 14.6%\n",
      "Minibatch loss at step 50: 1.610906\n",
      "Minibatch accuracy: 43.8%\n",
      "Validation accuracy: 53.9%\n",
      "Minibatch loss at step 100: 1.028045\n",
      "Minibatch accuracy: 68.8%\n",
      "Validation accuracy: 61.3%\n",
      "Minibatch loss at step 150: 0.571527\n",
      "Minibatch accuracy: 81.2%\n",
      "Validation accuracy: 74.7%\n",
      "Minibatch loss at step 200: 1.148425\n",
      "Minibatch accuracy: 68.8%\n",
      "Validation accuracy: 78.1%\n",
      "Minibatch loss at step 250: 1.046703\n",
      "Minibatch accuracy: 62.5%\n",
      "Validation accuracy: 78.8%\n",
      "Minibatch loss at step 300: 0.392758\n",
      "Minibatch accuracy: 87.5%\n",
      "Validation accuracy: 80.5%\n",
      "Minibatch loss at step 350: 0.509496\n",
      "Minibatch accuracy: 93.8%\n",
      "Validation accuracy: 80.2%\n",
      "Minibatch loss at step 400: 0.304147\n",
      "Minibatch accuracy: 93.8%\n",
      "Validation accuracy: 81.5%\n",
      "Minibatch loss at step 450: 0.893579\n",
      "Minibatch accuracy: 87.5%\n",
      "Validation accuracy: 80.6%\n",
      "Minibatch loss at step 500: 0.728942\n",
      "Minibatch accuracy: 81.2%\n",
      "Validation accuracy: 82.8%\n",
      "Minibatch loss at step 550: 0.878817\n",
      "Minibatch accuracy: 75.0%\n",
      "Validation accuracy: 82.5%\n",
      "Minibatch loss at step 600: 0.324192\n",
      "Minibatch accuracy: 87.5%\n",
      "Validation accuracy: 83.0%\n",
      "Minibatch loss at step 650: 0.714442\n",
      "Minibatch accuracy: 87.5%\n",
      "Validation accuracy: 83.3%\n",
      "Minibatch loss at step 700: 0.729457\n",
      "Minibatch accuracy: 75.0%\n",
      "Validation accuracy: 81.9%\n",
      "Minibatch loss at step 750: 0.023389\n",
      "Minibatch accuracy: 100.0%\n",
      "Validation accuracy: 83.6%\n",
      "Minibatch loss at step 800: 0.507908\n",
      "Minibatch accuracy: 81.2%\n",
      "Validation accuracy: 83.8%\n",
      "Minibatch loss at step 850: 0.945098\n",
      "Minibatch accuracy: 75.0%\n",
      "Validation accuracy: 83.9%\n",
      "Minibatch loss at step 900: 0.619264\n",
      "Minibatch accuracy: 81.2%\n",
      "Validation accuracy: 84.3%\n",
      "Minibatch loss at step 950: 0.514115\n",
      "Minibatch accuracy: 87.5%\n",
      "Validation accuracy: 84.1%\n",
      "Minibatch loss at step 1000: 0.435146\n",
      "Minibatch accuracy: 93.8%\n",
      "Validation accuracy: 84.7%\n",
      "Test accuracy: 91.3%\n"
     ]
    }
   ],
   "source": [
    "conv_net(1001, cnn_2_layers_maxpool)"
   ]
  },
  {
   "cell_type": "markdown",
   "metadata": {
    "colab_type": "text",
    "id": "klf21gpbAgb-"
   },
   "source": [
    "---\n",
    "Problem 2\n",
    "---------\n",
    "\n",
    "Try to get the best performance you can using a convolutional net. Look for example at the classic [LeNet5](http://yann.lecun.com/exdb/lenet/) architecture, adding Dropout, and/or adding learning rate decay.\n",
    "\n",
    "---"
   ]
  },
  {
   "cell_type": "code",
   "execution_count": 16,
   "metadata": {
    "collapsed": true
   },
   "outputs": [],
   "source": [
    "def le_net_5(tf_train_dataset, tf_train_labels, tf_valid_dataset, tf_test_dataset):\n",
    "  keep_prob = 0.9\n",
    "  beta = 0.01\n",
    "  # Variables\n",
    "  ## First Convolution Layer\n",
    "  layer1_weights = tf.Variable(tf.truncated_normal([PATCH_SIZE, PATCH_SIZE, NUM_CHANNELS, DEPTH], stddev=0.1))\n",
    "  layer1_bias = tf.Variable(tf.zeros([DEPTH]))\n",
    "  ## Second Convolution Layer\n",
    "  layer2_weights = tf.Variable(tf.truncated_normal([PATCH_SIZE, PATCH_SIZE, DEPTH, DEPTH], stddev=0.1))\n",
    "  layer2_bias = tf.Variable(tf.constant(1.0, shape=[DEPTH]))\n",
    "  ## Fully Connected Layer\n",
    "  layer3_weights = tf.Variable(tf.truncated_normal([IMAGE_SIZE // 4 * IMAGE_SIZE // 4 * DEPTH, NUM_HIDDEN], stddev=0.1))\n",
    "  layer3_bias = tf.Variable(tf.constant(1.0, shape=[NUM_HIDDEN]))\n",
    "  ## Output Layer\n",
    "  layer4_weights = tf.Variable(tf.truncated_normal([NUM_HIDDEN, NUM_LABELS], stddev=0.1))\n",
    "  layer4_bias = tf.Variable(tf.constant(1.0, shape=[NUM_LABELS]))\n",
    "\n",
    "  # Model\n",
    "  def model(data, is_train=False):\n",
    "    conv1 = tf.nn.conv2d(data, layer1_weights, strides=[1, 1, 1, 1], padding='SAME')\n",
    "    hidden1 = tf.nn.relu(conv1 + layer1_bias)\n",
    "    hidden1 = tf.nn.max_pool(hidden1, ksize=[1, 2, 2, 1], strides=[1, 2, 2, 1], padding='SAME')\n",
    "    if is_train:\n",
    "      hidden1 = tf.nn.dropout(hidden1, keep_prob)\n",
    "    conv2 = tf.nn.conv2d(hidden1, layer2_weights, strides=[1, 1, 1, 1], padding='SAME')\n",
    "    hidden2 = tf.nn.relu(conv2 + layer2_bias)\n",
    "    hidden2 = tf.nn.max_pool(hidden2, ksize=[1, 2, 2, 1], strides=[1, 2, 2, 1], padding='SAME')\n",
    "    if is_train:\n",
    "      hidden2 = tf.nn.dropout(hidden2, keep_prob)\n",
    "    fcc_shape = hidden2.get_shape().as_list()\n",
    "    hidden2 = tf.reshape(hidden2, [fcc_shape[0], fcc_shape[1] * fcc_shape[2] * fcc_shape[3]])\n",
    "    hidden3 = tf.nn.relu(tf.matmul(hidden2, layer3_weights) + layer3_bias)\n",
    "    if is_train:\n",
    "      hidden3 = tf.nn.dropout(hidden3, keep_prob)\n",
    "    return tf.matmul(hidden3, layer4_weights) + layer4_bias\n",
    "\n",
    "  # Training Computation\n",
    "  logits = model(tf_train_dataset, is_train=True)\n",
    "  l2_loss = tf.nn.l2_loss(layer1_weights) + tf.nn.l2_loss(layer1_bias) \\\n",
    "            + tf.nn.l2_loss(layer2_weights) + tf.nn.l2_loss(layer2_bias) \\\n",
    "            + tf.nn.l2_loss(layer3_weights) + tf.nn.l2_loss(layer3_bias) \\\n",
    "            + tf.nn.l2_loss(layer4_weights) + tf.nn.l2_loss(layer4_bias)\n",
    "  loss = tf.reduce_mean(tf.nn.softmax_cross_entropy_with_logits(labels=tf_train_labels, logits=logits) + beta * l2_loss)\n",
    "\n",
    "  # Optimizer\n",
    "  global_step = tf.Variable(0)  # count the number of steps taken.\n",
    "  learning_rate = tf.train.exponential_decay(0.05, global_step, 1000, 0.90, staircase=True)\n",
    "  optimizer = tf.train.GradientDescentOptimizer(learning_rate).minimize(loss)\n",
    "\n",
    "  # Predictions\n",
    "  train_predictions = tf.nn.softmax(logits)\n",
    "  test_predictions = tf.nn.softmax(model(tf_test_dataset))\n",
    "  valid_predictions = tf.nn.softmax(model(tf_valid_dataset))\n",
    "  return optimizer, loss, train_predictions, valid_predictions, test_predictions"
   ]
  },
  {
   "cell_type": "code",
   "execution_count": null,
   "metadata": {
    "collapsed": false
   },
   "outputs": [
    {
     "name": "stdout",
     "output_type": "stream",
     "text": [
      "Initialized\n",
      "Minibatch loss at step 0: 6.895959\n",
      "Minibatch accuracy: 6.2%\n",
      "Validation accuracy: 10.0%\n",
      "Minibatch loss at step 50: 4.831171\n",
      "Minibatch accuracy: 12.5%\n",
      "Validation accuracy: 12.8%\n",
      "Minibatch loss at step 100: 4.403604\n",
      "Minibatch accuracy: 43.8%\n",
      "Validation accuracy: 46.2%\n",
      "Minibatch loss at step 150: 3.502974\n",
      "Minibatch accuracy: 50.0%\n",
      "Validation accuracy: 57.8%\n",
      "Minibatch loss at step 200: 3.361840\n",
      "Minibatch accuracy: 62.5%\n",
      "Validation accuracy: 70.0%\n",
      "Minibatch loss at step 250: 3.525927\n",
      "Minibatch accuracy: 62.5%\n",
      "Validation accuracy: 75.1%\n",
      "Minibatch loss at step 300: 2.584792\n",
      "Minibatch accuracy: 81.2%\n",
      "Validation accuracy: 79.3%\n",
      "Minibatch loss at step 350: 2.662890\n",
      "Minibatch accuracy: 87.5%\n",
      "Validation accuracy: 78.2%\n",
      "Minibatch loss at step 400: 2.197473\n",
      "Minibatch accuracy: 100.0%\n",
      "Validation accuracy: 81.4%\n",
      "Minibatch loss at step 450: 2.617240\n",
      "Minibatch accuracy: 81.2%\n",
      "Validation accuracy: 78.5%\n",
      "Minibatch loss at step 500: 2.469269\n",
      "Minibatch accuracy: 81.2%\n",
      "Validation accuracy: 81.3%\n",
      "Minibatch loss at step 550: 2.526767\n",
      "Minibatch accuracy: 68.8%\n",
      "Validation accuracy: 81.7%\n",
      "Minibatch loss at step 600: 1.887340\n",
      "Minibatch accuracy: 87.5%\n",
      "Validation accuracy: 82.4%\n",
      "Minibatch loss at step 650: 2.458842\n",
      "Minibatch accuracy: 87.5%\n",
      "Validation accuracy: 82.4%\n",
      "Minibatch loss at step 700: 2.309401\n",
      "Minibatch accuracy: 75.0%\n",
      "Validation accuracy: 83.4%\n",
      "Minibatch loss at step 750: 1.449023\n",
      "Minibatch accuracy: 100.0%\n",
      "Validation accuracy: 83.9%\n",
      "Minibatch loss at step 800: 1.968478\n",
      "Minibatch accuracy: 81.2%\n"
     ]
    }
   ],
   "source": [
    "conv_net(1001, le_net_5)"
   ]
  },
  {
   "cell_type": "code",
   "execution_count": null,
   "metadata": {
    "collapsed": true
   },
   "outputs": [],
   "source": []
  }
 ],
 "metadata": {
  "colab": {
   "default_view": {},
   "name": "4_convolutions.ipynb",
   "provenance": [],
   "version": "0.3.2",
   "views": {}
  },
  "kernelspec": {
   "display_name": "Python 2",
   "language": "python",
   "name": "python2"
  },
  "language_info": {
   "codemirror_mode": {
    "name": "ipython",
    "version": 2
   },
   "file_extension": ".py",
   "mimetype": "text/x-python",
   "name": "python",
   "nbconvert_exporter": "python",
   "pygments_lexer": "ipython2",
   "version": "2.7.12"
  }
 },
 "nbformat": 4,
 "nbformat_minor": 0
}

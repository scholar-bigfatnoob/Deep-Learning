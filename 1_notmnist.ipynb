{
 "cells": [
  {
   "cell_type": "markdown",
   "metadata": {
    "collapsed": true
   },
   "source": [
    "Deep Learning\n",
    "=============\n",
    "\n",
    "Assignment 1\n",
    "------------\n",
    "\n",
    "The objective of this assignment is to learn about simple data curation practices, and familiarize you with some of the data we'll be reusing later.\n",
    "\n",
    "This notebook uses the [notMNIST](http://yaroslavvb.blogspot.com/2011/09/notmnist-dataset.html) dataset to be used with python experiments. This dataset is designed to look like the classic [MNIST](http://yann.lecun.com/exdb/mnist/) dataset, while looking a little more like real data: it's a harder task, and the data is a lot less 'clean' than MNIST."
   ]
  },
  {
   "cell_type": "code",
   "execution_count": 1,
   "metadata": {
    "collapsed": true
   },
   "outputs": [],
   "source": [
    "from __future__ import print_function\n",
    "import matplotlib.pyplot as plt\n",
    "import numpy as np\n",
    "import os\n",
    "import sys\n",
    "import tarfile\n",
    "from IPython.display import display, Image\n",
    "from scipy import ndimage\n",
    "from sklearn.linear_model import LogisticRegression\n",
    "from six.moves.urllib.request import urlretrieve\n",
    "from six.moves import cPickle as pickle\n",
    "\n",
    "# Config the matplotlib backend as plotting inline in IPython\n",
    "%matplotlib inline"
   ]
  },
  {
   "cell_type": "markdown",
   "metadata": {},
   "source": [
    "First, we'll download the dataset to our local machine. The data consists of characters rendered in a variety of fonts on a 28x28 image. The labels are limited to 'A' through 'J' (10 classes). The training set has about 500k and the testset 19000 labelled examples. Given these sizes, it should be possible to train models quickly on any machine."
   ]
  },
  {
   "cell_type": "code",
   "execution_count": 2,
   "metadata": {
    "collapsed": false
   },
   "outputs": [
    {
     "name": "stdout",
     "output_type": "stream",
     "text": [
      "Found and verified ./notMNIST_large.tar.gz\n",
      "Found and verified ./notMNIST_small.tar.gz\n"
     ]
    }
   ],
   "source": [
    "url = 'http://commondatastorage.googleapis.com/books1000/'\n",
    "last_percent_reported = None\n",
    "data_root = '.' # Change me to store data elsewhere\n",
    "\n",
    "def download_progress_hook(count, blockSize, totalSize):\n",
    "  \"\"\"A hook to report the progress of a download. This is mostly intended for users with\n",
    "  slow internet connections. Reports every 5% change in download progress.\n",
    "  \"\"\"\n",
    "  global last_percent_reported\n",
    "  percent = int(count * blockSize * 100 / totalSize)\n",
    "\n",
    "  if last_percent_reported != percent:\n",
    "    if percent % 5 == 0:\n",
    "      sys.stdout.write(\"%s%%\" % percent)\n",
    "      sys.stdout.flush()\n",
    "    else:\n",
    "      sys.stdout.write(\".\")\n",
    "      sys.stdout.flush()\n",
    "      \n",
    "    last_percent_reported = percent\n",
    "        \n",
    "def maybe_download(filename, expected_bytes, force=False):\n",
    "  \"\"\"Download a file if not present, and make sure it's the right size.\"\"\"\n",
    "  dest_filename = os.path.join(data_root, filename)\n",
    "  if force or not os.path.exists(dest_filename):\n",
    "    print('Attempting to download:', filename) \n",
    "    filename, _ = urlretrieve(url + filename, dest_filename, reporthook=download_progress_hook)\n",
    "    print('\\nDownload Complete!')\n",
    "  statinfo = os.stat(dest_filename)\n",
    "  if statinfo.st_size == expected_bytes:\n",
    "    print('Found and verified', dest_filename)\n",
    "  else:\n",
    "    raise Exception(\n",
    "      'Failed to verify ' + dest_filename + '. Can you get to it with a browser?')\n",
    "  return dest_filename\n",
    "\n",
    "train_filename = maybe_download('notMNIST_large.tar.gz', 247336696)\n",
    "test_filename = maybe_download('notMNIST_small.tar.gz', 8458043)"
   ]
  },
  {
   "cell_type": "markdown",
   "metadata": {},
   "source": [
    "Extract the dataset from the compressed .tar.gz file.\n",
    "This should give you a set of directories, labelled A through J."
   ]
  },
  {
   "cell_type": "code",
   "execution_count": 3,
   "metadata": {
    "collapsed": false
   },
   "outputs": [
    {
     "name": "stdout",
     "output_type": "stream",
     "text": [
      "./notMNIST_large already present - Skipping extraction of ./notMNIST_large.tar.gz.\n",
      "['./notMNIST_large/A', './notMNIST_large/B', './notMNIST_large/C', './notMNIST_large/D', './notMNIST_large/E', './notMNIST_large/F', './notMNIST_large/G', './notMNIST_large/H', './notMNIST_large/I', './notMNIST_large/J']\n",
      "./notMNIST_small already present - Skipping extraction of ./notMNIST_small.tar.gz.\n",
      "['./notMNIST_small/A', './notMNIST_small/B', './notMNIST_small/C', './notMNIST_small/D', './notMNIST_small/E', './notMNIST_small/F', './notMNIST_small/G', './notMNIST_small/H', './notMNIST_small/I', './notMNIST_small/J']\n"
     ]
    }
   ],
   "source": [
    "num_classes = 10\n",
    "np.random.seed(133)\n",
    "\n",
    "def maybe_extract(filename, force=False):\n",
    "  root = os.path.splitext(os.path.splitext(filename)[0])[0]  # remove .tar.gz\n",
    "  if os.path.isdir(root) and not force:\n",
    "    # You may override by setting force=True.\n",
    "    print('%s already present - Skipping extraction of %s.' % (root, filename))\n",
    "  else:\n",
    "    print('Extracting data for %s. This may take a while. Please wait.' % root)\n",
    "    tar = tarfile.open(filename)\n",
    "    sys.stdout.flush()\n",
    "    tar.extractall(data_root)\n",
    "    tar.close()\n",
    "  data_folders = [\n",
    "    os.path.join(root, d) for d in sorted(os.listdir(root))\n",
    "    if os.path.isdir(os.path.join(root, d))]\n",
    "  if len(data_folders) != num_classes:\n",
    "    raise Exception(\n",
    "      'Expected %d folders, one per class. Found %d instead.' % (\n",
    "        num_classes, len(data_folders)))\n",
    "  print(data_folders)\n",
    "  return data_folders\n",
    "  \n",
    "train_folders = maybe_extract(train_filename)\n",
    "test_folders = maybe_extract(test_filename)"
   ]
  },
  {
   "cell_type": "markdown",
   "metadata": {
    "collapsed": true
   },
   "source": [
    "---\n",
    "Problem 1\n",
    "---------\n",
    "\n",
    "Let's take a peek at some of the data to make sure it looks sensible. Each exemplar should be an image of a character A through J rendered in a different font. Display a sample of the images that we just downloaded. Hint: you can use the package IPython.display.\n",
    "\n",
    "---"
   ]
  },
  {
   "cell_type": "code",
   "execution_count": 5,
   "metadata": {
    "collapsed": false
   },
   "outputs": [
    {
     "data": {
      "image/png": "[encoded data removed]",
      "text/plain": [
       "<IPython.core.display.Image object>"
      ]
     },
     "metadata": {},
     "output_type": "display_data"
    },
    {
     "data": {
      "image/png": "[encoded data removed]",
      "text/plain": [
       "<IPython.core.display.Image object>"
      ]
     },
     "metadata": {},
     "output_type": "display_data"
    },
    {
     "data": {
      "image/png": "[encoded data removed]",
      "text/plain": [
       "<IPython.core.display.Image object>"
      ]
     },
     "metadata": {},
     "output_type": "display_data"
    },
    {
     "data": {
      "image/png": "[encoded data removed]",
      "text/plain": [
       "<IPython.core.display.Image object>"
      ]
     },
     "metadata": {},
     "output_type": "display_data"
    },
    {
     "data": {
      "image/png": "[encoded data removed]",
      "text/plain": [
       "<IPython.core.display.Image object>"
      ]
     },
     "metadata": {},
     "output_type": "display_data"
    },
    {
     "data": {
      "image/png": "[encoded data removed]",
      "text/plain": [
       "<IPython.core.display.Image object>"
      ]
     },
     "metadata": {},
     "output_type": "display_data"
    },
    {
     "data": {
      "image/png": "[encoded data removed]",
      "text/plain": [
       "<IPython.core.display.Image object>"
      ]
     },
     "metadata": {},
     "output_type": "display_data"
    },
    {
     "data": {
      "image/png": "[encoded data removed]",
      "text/plain": [
       "<IPython.core.display.Image object>"
      ]
     },
     "metadata": {},
     "output_type": "display_data"
    },
    {
     "data": {
      "image/png": "[encoded data removed]",
      "text/plain": [
       "<IPython.core.display.Image object>"
      ]
     },
     "metadata": {},
     "output_type": "display_data"
    },
    {
     "data": {
      "image/png": "[encoded data removed]",
      "text/plain": [
       "<IPython.core.display.Image object>"
      ]
     },
     "metadata": {},
     "output_type": "display_data"
    }
   ],
   "source": [
    "def random_displays(train_folders):\n",
    "  for folder_name in train_folders:\n",
    "    display(Image(filename=\"%s/%s\" % (folder_name, np.random.choice(os.listdir(folder_name)))))\n",
    "\n",
    "\n",
    "# random_displays(train_folders)"
   ]
  },
  {
   "cell_type": "code",
   "execution_count": 6,
   "metadata": {
    "collapsed": false
   },
   "outputs": [
    {
     "name": "stdout",
     "output_type": "stream",
     "text": [
      "./notMNIST_large/A.pkl already present - Skipping pickling.\n",
      "./notMNIST_large/B.pkl already present - Skipping pickling.\n",
      "./notMNIST_large/C.pkl already present - Skipping pickling.\n",
      "./notMNIST_large/D.pkl already present - Skipping pickling.\n",
      "./notMNIST_large/E.pkl already present - Skipping pickling.\n",
      "./notMNIST_large/F.pkl already present - Skipping pickling.\n",
      "./notMNIST_large/G.pkl already present - Skipping pickling.\n",
      "./notMNIST_large/H.pkl already present - Skipping pickling.\n",
      "./notMNIST_large/I.pkl already present - Skipping pickling.\n",
      "./notMNIST_large/J.pkl already present - Skipping pickling.\n",
      "./notMNIST_small/A.pkl already present - Skipping pickling.\n",
      "./notMNIST_small/B.pkl already present - Skipping pickling.\n",
      "./notMNIST_small/C.pkl already present - Skipping pickling.\n",
      "./notMNIST_small/D.pkl already present - Skipping pickling.\n",
      "./notMNIST_small/E.pkl already present - Skipping pickling.\n",
      "./notMNIST_small/F.pkl already present - Skipping pickling.\n",
      "./notMNIST_small/G.pkl already present - Skipping pickling.\n",
      "./notMNIST_small/H.pkl already present - Skipping pickling.\n",
      "./notMNIST_small/I.pkl already present - Skipping pickling.\n",
      "./notMNIST_small/J.pkl already present - Skipping pickling.\n"
     ]
    }
   ],
   "source": [
    "image_size = 28 # Number of pixels in a row/column.\n",
    "pixel_depth = 255.0 # Number of levels in a pixel of the image.\n",
    "\n",
    "def load_letter(folder, min_num_images):\n",
    "  \"\"\"\n",
    "  Load all images in a single letter's folder.\n",
    "  \"\"\"\n",
    "  image_files = os.listdir(folder)\n",
    "  dataset = np.ndarray(shape=(len(image_files), image_size, image_size), dtype=np.float32)\n",
    "  print(folder)\n",
    "  num_images = 0\n",
    "  for image in image_files:\n",
    "    image_file = os.path.join(folder, image)\n",
    "    try:\n",
    "      image_data = (ndimage.imread(image_file).astype(float) - pixel_depth/2) / pixel_depth\n",
    "      if  image_data.shape != (image_size, image_size):\n",
    "          raise Exception('Unexpected image shape: %s' % str(image_data.shape))\n",
    "      dataset[num_images, :, :] = image_data\n",
    "      num_images += 1\n",
    "    except IOError as e:\n",
    "      print('Could not read:', image_file, ':', e, '- it\\'s ok, skipping.')\n",
    "  dataset = dataset[0:num_images, :, :]\n",
    "  if num_images < min_num_images:\n",
    "    raise Exception('Many fewer images than expected: %d < %d' %\n",
    "                    (num_images, min_num_images))\n",
    "  print('Full dataset tensor:', dataset.shape)\n",
    "  print('Mean:', np.mean(dataset))\n",
    "  print('Standard deviation:', np.std(dataset))\n",
    "  return dataset\n",
    "\n",
    "\n",
    "def maybe_pickle(data_folders, min_num_images_per_class, force=False):\n",
    "  dataset_names = []\n",
    "  for folder in data_folders:\n",
    "    set_filename = folder + '.pkl'\n",
    "    dataset_names.append(set_filename)\n",
    "    if os.path.exists(set_filename) and not force:\n",
    "      # You may override by setting force=True.\n",
    "      print('%s already present - Skipping pickling.' % set_filename)\n",
    "    else:\n",
    "      print('Pickling %s.' % set_filename)\n",
    "      dataset = load_letter(folder, min_num_images_per_class)\n",
    "      try:\n",
    "        with open(set_filename, 'wb') as f:\n",
    "          pickle.dump(dataset, f, pickle.HIGHEST_PROTOCOL)\n",
    "      except Exception as e:\n",
    "        print('Unable to save data to', set_filename, ':', e)\n",
    "  return dataset_names\n",
    "\n",
    "train_datasets = maybe_pickle(train_folders, 45000)\n",
    "test_datasets = maybe_pickle(test_folders, 1800)"
   ]
  },
  {
   "cell_type": "markdown",
   "metadata": {},
   "source": [
    "---\n",
    "Problem 2\n",
    "---------\n",
    "\n",
    "Let's verify that the data still looks good. Displaying a sample of the labels and images from the ndarray. Hint: you can use matplotlib.pyplot.\n",
    "\n",
    "---"
   ]
  },
  {
   "cell_type": "code",
   "execution_count": 7,
   "metadata": {
    "collapsed": false
   },
   "outputs": [
    {
     "data": {
      "image/png": "[encoded data removed]",
      "text/plain": [
       "<matplotlib.figure.Figure at 0x10c10ab90>"
      ]
     },
     "metadata": {},
     "output_type": "display_data"
    },
    {
     "data": {
      "image/png": "[encoded data removed]",
      "text/plain": [
       "<matplotlib.figure.Figure at 0x10c23d190>"
      ]
     },
     "metadata": {},
     "output_type": "display_data"
    },
    {
     "data": {
      "image/png": "[encoded data removed]",
      "text/plain": [
       "<matplotlib.figure.Figure at 0x10c459d50>"
      ]
     },
     "metadata": {},
     "output_type": "display_data"
    },
    {
     "data": {
      "image/png": "[encoded data removed]",
      "text/plain": [
       "<matplotlib.figure.Figure at 0x10c2b9a50>"
      ]
     },
     "metadata": {},
     "output_type": "display_data"
    },
    {
     "data": {
      "image/png": "[encoded data removed]",
      "text/plain": [
       "<matplotlib.figure.Figure at 0x10c2dea90>"
      ]
     },
     "metadata": {},
     "output_type": "display_data"
    },
    {
     "data": {
      "image/png": "[encoded data removed]",
      "text/plain": [
       "<matplotlib.figure.Figure at 0x10c590690>"
      ]
     },
     "metadata": {},
     "output_type": "display_data"
    },
    {
     "data": {
      "image/png": "[encoded data removed]",
      "text/plain": [
       "<matplotlib.figure.Figure at 0x10c24be50>"
      ]
     },
     "metadata": {},
     "output_type": "display_data"
    },
    {
     "data": {
      "image/png": "[encoded data removed]",
      "text/plain": [
       "<matplotlib.figure.Figure at 0x10c180050>"
      ]
     },
     "metadata": {},
     "output_type": "display_data"
    },
    {
     "data": {
      "image/png": "[encoded data removed]",
      "text/plain": [
       "<matplotlib.figure.Figure at 0x10296c810>"
      ]
     },
     "metadata": {},
     "output_type": "display_data"
    },
    {
     "data": {
      "image/png": "[encoded data removed]",
      "text/plain": [
       "<matplotlib.figure.Figure at 0x103db1410>"
      ]
     },
     "metadata": {},
     "output_type": "display_data"
    }
   ],
   "source": [
    "def verify_pickled_data(datasets):\n",
    "  for dataset_name in datasets:\n",
    "    with open(dataset_name) as f:\n",
    "      dataset = pickle.load(f)\n",
    "      random_image = dataset[np.random.choice(dataset.shape[0]), :, :]\n",
    "      plt.figure(figsize = (1,1))\n",
    "      plt.imshow(random_image)\n",
    "\n",
    "      \n",
    "verify_pickled_data(train_datasets)"
   ]
  },
  {
   "cell_type": "markdown",
   "metadata": {},
   "source": [
    "---\n",
    "Problem 3\n",
    "---------\n",
    "Another check: we expect the data to be balanced across classes. Verify that.\n",
    "\n",
    "---"
   ]
  },
  {
   "cell_type": "code",
   "execution_count": 8,
   "metadata": {
    "collapsed": false
   },
   "outputs": [
    {
     "name": "stdout",
     "output_type": "stream",
     "text": [
      "# Training\n",
      "Images in ./notMNIST_large/A.pkl = 52909\n",
      "Images in ./notMNIST_large/B.pkl = 52911\n",
      "Images in ./notMNIST_large/C.pkl = 52912\n",
      "Images in ./notMNIST_large/D.pkl = 52911\n",
      "Images in ./notMNIST_large/E.pkl = 52912\n",
      "Images in ./notMNIST_large/F.pkl = 52912\n",
      "Images in ./notMNIST_large/G.pkl = 52912\n",
      "Images in ./notMNIST_large/H.pkl = 52912\n",
      "Images in ./notMNIST_large/I.pkl = 52912\n",
      "Images in ./notMNIST_large/J.pkl = 52911\n",
      "\n",
      "# Testing\n",
      "Images in ./notMNIST_small/A.pkl = 1872\n",
      "Images in ./notMNIST_small/B.pkl = 1873\n",
      "Images in ./notMNIST_small/C.pkl = 1873\n",
      "Images in ./notMNIST_small/D.pkl = 1873\n",
      "Images in ./notMNIST_small/E.pkl = 1873\n",
      "Images in ./notMNIST_small/F.pkl = 1872\n",
      "Images in ./notMNIST_small/G.pkl = 1872\n",
      "Images in ./notMNIST_small/H.pkl = 1872\n",
      "Images in ./notMNIST_small/I.pkl = 1872\n",
      "Images in ./notMNIST_small/J.pkl = 1872\n"
     ]
    }
   ],
   "source": [
    "def verify_data_points(datasets):\n",
    "  for dataset_name in datasets:\n",
    "    with open(dataset_name) as f:\n",
    "      dataset = pickle.load(f)\n",
    "      print(\"Images in %s = %d\" % (dataset_name, dataset.shape[0]))\n",
    "\n",
    "print(\"# Training\")\n",
    "verify_data_points(train_datasets)\n",
    "\n",
    "print(\"\\n# Testing\")\n",
    "verify_data_points(test_datasets)"
   ]
  },
  {
   "cell_type": "markdown",
   "metadata": {},
   "source": [
    "Merge and prune the training data as needed. Depending on your computer setup, you might not be able to fit it all in memory, and you can tune `train_size` as needed. The labels will be stored into a separate array of integers 0 through 9.\n",
    "\n",
    "Also create a validation dataset for hyperparameter tuning."
   ]
  },
  {
   "cell_type": "code",
   "execution_count": 9,
   "metadata": {
    "collapsed": false
   },
   "outputs": [],
   "source": [
    "def make_empty_arrays(nb_rows, img_size):\n",
    "  dataset, labels = None, None\n",
    "  if nb_rows:\n",
    "    dataset = np.ndarray(shape=(nb_rows, img_size, img_size), dtype=np.float32)\n",
    "    labels = np.ndarray(shape=nb_rows, dtype=np.float32)\n",
    "  return dataset, labels\n",
    "\n",
    "\n",
    "def merge_datasets(pickle_files, train_size, valid_size=0):\n",
    "  num_classes = len(pickle_files)\n",
    "  valid_dataset, valid_labels = make_empty_arrays(valid_size, image_size)\n",
    "  train_dataset, train_labels = make_empty_arrays(train_size, image_size)\n",
    "  vsize_per_class = valid_size // num_classes\n",
    "  tsize_per_class = train_size // num_classes\n",
    "  start_v, start_t = 0, 0\n",
    "  end_v, end_t = vsize_per_class, tsize_per_class\n",
    "  end_l = vsize_per_class + tsize_per_class\n",
    "  for label, pickle_file in enumerate(pickle_files):\n",
    "    try:\n",
    "      with open(pickle_file) as f:\n",
    "        letter_set = pickle.load(f)\n",
    "        np.random.shuffle(letter_set)\n",
    "        if valid_dataset is not None:\n",
    "          valid_dataset[start_v:end_v, :, :] = letter_set[:vsize_per_class, :, :]\n",
    "          valid_labels[start_v:end_v] = label\n",
    "          start_v += vsize_per_class\n",
    "          end_v += vsize_per_class\n",
    "        train_dataset[start_t:end_t, :, :] = letter_set[vsize_per_class:end_l, :, :]\n",
    "        train_labels[start_t:end_t] = label\n",
    "        start_t += tsize_per_class\n",
    "        end_t += tsize_per_class\n",
    "    except Exception as e:\n",
    "      print('Unable to process data from', pickle_file, ':', e)\n",
    "      raise\n",
    "  return valid_dataset, valid_labels, train_dataset, train_labels\n",
    "\n",
    "\n",
    "# train_size = 200000\n",
    "# valid_size = 10000\n",
    "# test_size = 10000\n",
    "#\n",
    "# valid_dataset, valid_labels, train_dataset, train_labels = merge_datasets(train_datasets, train_size, valid_size)\n",
    "# _, __, test_dataset, test_labels = merge_datasets(test_datasets, test_size)\n",
    "#\n",
    "# print('Training:', train_dataset.shape, train_labels.shape)\n",
    "# print('Validation:', valid_dataset.shape, valid_labels.shape)\n",
    "# print('Testing:', test_dataset.shape, test_labels.shape)"
   ]
  },
  {
   "cell_type": "markdown",
   "metadata": {},
   "source": [
    "Next, we'll randomize the data. It's important to have the labels well shuffled for the training and test distributions to match."
   ]
  },
  {
   "cell_type": "code",
   "execution_count": 10,
   "metadata": {
    "collapsed": true
   },
   "outputs": [],
   "source": [
    "def randomize(dataset, labels):\n",
    "  permutation = np.random.permutation(labels.shape[0])\n",
    "  shuffled_dataset = dataset[permutation,:,:]\n",
    "  shuffled_labels = labels[permutation]\n",
    "  return shuffled_dataset, shuffled_labels\n",
    "# train_dataset, train_labels = randomize(train_dataset, train_labels)\n",
    "# test_dataset, test_labels = randomize(test_dataset, test_labels)\n",
    "# valid_dataset, valid_labels = randomize(valid_dataset, valid_labels)"
   ]
  },
  {
   "cell_type": "markdown",
   "metadata": {},
   "source": [
    "---\n",
    "Problem 4\n",
    "---------\n",
    "Convince yourself that the data is still good after shuffling!\n",
    "\n",
    "---"
   ]
  },
  {
   "cell_type": "code",
   "execution_count": 11,
   "metadata": {
    "collapsed": false
   },
   "outputs": [],
   "source": [
    "\"\"\"\n",
    "---\n",
    "Problem 4\n",
    "---------\n",
    "Convince yourself that the data is still good after shuffling!\n",
    "\n",
    "---\n",
    "\"\"\"\n",
    "\n",
    "def verify_shuffled(dataset, labels):\n",
    "  permutation = np.random.permutation(labels.shape[0])[:3]\n",
    "  for p in permutation:\n",
    "    plt.figure(figsize = (1,1))\n",
    "    plt.imshow(dataset[p])\n",
    "    plt.title(string.uppercase[int(labels[p])])\n",
    "\n",
    "# print('# Training')\n",
    "# verify_shuffled(train_dataset, train_labels)\n",
    "# print('# Test')\n",
    "# verify_shuffled(test_dataset, test_labels)\n",
    "# print('# Validation')\n",
    "# verify_shuffled(valid_dataset, valid_labels)"
   ]
  },
  {
   "cell_type": "markdown",
   "metadata": {},
   "source": [
    "Finally, let's save the data for later reuse:"
   ]
  },
  {
   "cell_type": "code",
   "execution_count": 13,
   "metadata": {
    "collapsed": false
   },
   "outputs": [],
   "source": [
    "pickle_file = os.path.join(data_root, 'notMNIST.pkl')\n",
    "\n",
    "\n",
    "def load_data():\n",
    "  try:\n",
    "    with open(pickle_file) as f:\n",
    "      load = pickle.load(f)\n",
    "  except Exception as e:\n",
    "    print('Unable to load data from', pickle_file, ':', e)\n",
    "    raise\n",
    "  return load\n",
    "\n",
    "load = load_data()\n",
    "train_dataset = load['train_dataset']\n",
    "train_labels = load['train_labels']\n",
    "valid_dataset = load['valid_dataset']\n",
    "valid_labels = load['valid_labels']\n",
    "test_dataset = load['test_dataset']\n",
    "test_labels = load['test_labels']\n",
    "\n",
    "\n",
    "def save_data(file_name, train_x, train_y, valid_x, valid_y, test_x, test_y):\n",
    "  try:\n",
    "    f = open(file_name, 'wb')\n",
    "    save = {\n",
    "        'train_dataset': train_x,\n",
    "        'train_labels': train_y,\n",
    "        'valid_dataset': valid_x,\n",
    "        'valid_labels': valid_y,\n",
    "        'test_dataset': test_x,\n",
    "        'test_labels': test_y,\n",
    "    }\n",
    "    pickle.dump(save, f, pickle.HIGHEST_PROTOCOL)\n",
    "    f.close()\n",
    "  except Exception as e:\n",
    "    print('Unable to save data to', pickle_file, ':', e)\n",
    "    raise\n",
    "# save_data()"
   ]
  },
  {
   "cell_type": "code",
   "execution_count": 14,
   "metadata": {
    "collapsed": false
   },
   "outputs": [
    {
     "name": "stdout",
     "output_type": "stream",
     "text": [
      "Compressed pickle size: 690800406\n"
     ]
    }
   ],
   "source": [
    "statinfo = os.stat(pickle_file)\n",
    "print('Compressed pickle size:', statinfo.st_size)"
   ]
  },
  {
   "cell_type": "markdown",
   "metadata": {},
   "source": [
    "---\n",
    "Problem 5\n",
    "---------\n",
    "\n",
    "By construction, this dataset might contain a lot of overlapping samples, including training data that's also contained in the validation and test set! Overlap between training and test can skew the results if you expect to use your model in an environment where there is never an overlap, but are actually ok if you expect to see training samples recur when you use it.\n",
    "Measure how much overlap there is between training, validation and test samples.\n",
    "\n",
    "Optional questions:\n",
    "- What about near duplicates between datasets? (images that are almost identical)\n",
    "- Create a sanitized validation and test set, and compare your accuracy on those in subsequent assignments.\n",
    "---"
   ]
  },
  {
   "cell_type": "code",
   "execution_count": 15,
   "metadata": {
    "collapsed": false
   },
   "outputs": [],
   "source": [
    "def remove_self_duplicates(src, labels):\n",
    "  src_hashed = np.array([hashlib.sha256(img).hexdigest() for img in src])\n",
    "  cleaned_src, cleaned_labels = [], []\n",
    "  for i, hash_i in enumerate(src_hashed):\n",
    "    duplicates = np.where(src_hashed[i+1:] == hash_i)\n",
    "    if len(duplicates[0]) == 0:\n",
    "      cleaned_src.append(src[i])\n",
    "      cleaned_labels.append(labels[i])\n",
    "  return np.array(cleaned_src), np.array(cleaned_labels)\n",
    "\n",
    "\n",
    "def remove_duplicates(src, dst, src_labels):\n",
    "  src_hashed = np.array([hashlib.sha256(img).hexdigest() for img in src])\n",
    "  dst_hashed = np.array([hashlib.sha256(img).hexdigest() for img in dst])\n",
    "  duplicate_ids = []\n",
    "  for i, hash_i in enumerate(src_hashed):\n",
    "    duplicates = np.where(dst_hashed == hash_i)\n",
    "    if len(duplicates[0]):\n",
    "      duplicate_ids.append(i)\n",
    "  return np.delete(src, duplicate_ids, 0), np.delete(src_labels, duplicate_ids)\n",
    "\n",
    "# print(len(test_dataset), len(train_dataset))\n",
    "# cleaned_train_dataset, cleaned_train_labels = remove_self_duplicates(train_dataset, train_labels)\n",
    "# print(np.shape(cleaned_train_dataset), np.shape(train_dataset))\n",
    "# cleaned_test_dataset, cleaned_test_labels = remove_duplicates(test_dataset, cleaned_train_dataset, test_labels)\n",
    "# print(np.shape(cleaned_test_dataset), np.shape(test_dataset))\n",
    "# cleaned_valid_dataset, cleaned_valid_labels = remove_duplicates(valid_dataset, cleaned_train_dataset, valid_labels)\n",
    "# print(np.shape(cleaned_valid_dataset), np.shape(valid_labels))\n",
    "\n",
    "cleaned_pickle_file = os.path.join(data_root, 'cleaned_notMNIST.pkl')\n",
    "# save_data(cleaned_pickle_file, cleaned_train_dataset, cleaned_train_labels, cleaned_valid_dataset,\n",
    "#           cleaned_valid_labels, cleaned_test_dataset, cleaned_test_labels)"
   ]
  },
  {
   "cell_type": "markdown",
   "metadata": {
    "collapsed": true
   },
   "source": [
    "---\n",
    "Problem 6\n",
    "---------\n",
    "\n",
    "Let's get an idea of what an off-the-shelf classifier can give you on this data. It's always good to\n",
    "check that there is something to learn, and that it's a problem that is not so trivial that a canned\n",
    "solution solves it.\n",
    "\n",
    "Train a simple model on this data using 50, 100, 1000 and 5000 training samples. Hint: you can use\n",
    "the LogisticRegression model from sklearn.linear_model.\n",
    "\n",
    "Optional question: train an off-the-shelf model on all the data!\n",
    "\n",
    "---"
   ]
  },
  {
   "cell_type": "code",
   "execution_count": 16,
   "metadata": {
    "collapsed": false
   },
   "outputs": [
    {
     "name": "stdout",
     "output_type": "stream",
     "text": [
      "Sample Size:  50 ; Accuracy:  0.509\n",
      "Sample Size:  100 ; Accuracy:  0.6966\n",
      "Sample Size:  1000 ; Accuracy:  0.8333\n",
      "Sample Size:  5000 ; Accuracy:  0.8511\n"
     ]
    }
   ],
   "source": [
    "def train_and_predict(size):\n",
    "  # Train\n",
    "  model = LogisticRegression()\n",
    "  x_train = train_dataset[:size].reshape(size, image_size * image_size) # Convert 2d image into 1d for training\n",
    "  y_train = train_labels[:size]\n",
    "  model.fit(x_train, y_train)\n",
    "  # Predict\n",
    "  x_test = test_dataset.reshape(test_dataset.shape[0], image_size * image_size)\n",
    "  print(\"Sample Size: \", size, \"; Accuracy: \", model.score(x_test, test_labels))\n",
    "\n",
    "\n",
    "def train_for_samples(samples):\n",
    "  for sample in samples:\n",
    "    train_and_predict(sample)\n",
    "\n",
    "train_for_samples([50, 100, 1000, 5000, len(train_dataset)])"
   ]
  },
  {
   "cell_type": "code",
   "execution_count": null,
   "metadata": {
    "collapsed": true
   },
   "outputs": [],
   "source": [
    ""
   ]
  }
 ],
 "metadata": {
  "kernelspec": {
   "display_name": "Python 2",
   "language": "python",
   "name": "python2"
  },
  "language_info": {
   "codemirror_mode": {
    "name": "ipython",
    "version": 2.0
   },
   "file_extension": ".py",
   "mimetype": "text/x-python",
   "name": "python",
   "nbconvert_exporter": "python",
   "pygments_lexer": "ipython2",
   "version": "2.7.12"
  }
 },
 "nbformat": 4,
 "nbformat_minor": 0
}
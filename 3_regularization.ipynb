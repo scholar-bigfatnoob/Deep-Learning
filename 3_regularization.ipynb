{
 "cells": [
  {
   "cell_type": "markdown",
   "metadata": {
    "colab_type": "text",
    "id": "kR-4eNdK6lYS"
   },
   "source": [
    "Deep Learning\n",
    "=============\n",
    "\n",
    "Assignment 3\n",
    "------------\n",
    "\n",
    "Previously in `2_fullyconnected.ipynb`, you trained a logistic regression and a neural network model.\n",
    "\n",
    "The goal of this assignment is to explore regularization techniques."
   ]
  },
  {
   "cell_type": "code",
   "execution_count": 3,
   "metadata": {
    "cellView": "both",
    "colab": {
     "autoexec": {
      "startup": false,
      "wait_interval": 0.0
     }
    },
    "colab_type": "code",
    "collapsed": true,
    "id": "JLpLa8Jt7Vu4"
   },
   "outputs": [],
   "source": [
    "# These are all the modules we'll be using later. Make sure you can import them\n",
    "# before proceeding further.\n",
    "from __future__ import print_function\n",
    "import numpy as np\n",
    "import tensorflow as tf\n",
    "from six.moves import cPickle as pickle"
   ]
  },
  {
   "cell_type": "markdown",
   "metadata": {
    "colab_type": "text",
    "id": "1HrCK6e17WzV"
   },
   "source": [
    "First reload the data we generated in `1_notmnist.ipynb`."
   ]
  },
  {
   "cell_type": "code",
   "execution_count": 14,
   "metadata": {
    "cellView": "both",
    "colab": {
     "autoexec": {
      "startup": false,
      "wait_interval": 0.0
     },
     "output_extras": [
      {
       "item_id": 1.0
      }
     ]
    },
    "colab_type": "code",
    "collapsed": false,
    "executionInfo": {
     "elapsed": 11777.0,
     "status": "ok",
     "timestamp": 1.449849322348E12,
     "user": {
      "color": "",
      "displayName": "",
      "isAnonymous": false,
      "isMe": true,
      "permissionId": "",
      "photoUrl": "",
      "sessionId": "0",
      "userId": ""
     },
     "user_tz": 480.0
    },
    "id": "y3-cj1bpmuxc",
    "outputId": "e03576f1-ebbe-4838-c388-f1777bcc9873"
   },
   "outputs": [
    {
     "name": "stdout",
     "output_type": "stream",
     "text": [
      "Training set (200000, 28, 28) (200000,)\n",
      "Validation set (10000, 28, 28) (10000,)\n",
      "Test set (10000, 28, 28) (10000,)\n"
     ]
    }
   ],
   "source": [
    "pickle_file = 'data/notMNIST.pkl'\n",
    "\n",
    "with open(pickle_file, 'rb') as f:\n",
    "  save = pickle.load(f)\n",
    "  train_dataset = save['train_dataset']\n",
    "  train_labels = save['train_labels']\n",
    "  valid_dataset = save['valid_dataset']\n",
    "  valid_labels = save['valid_labels']\n",
    "  test_dataset = save['test_dataset']\n",
    "  test_labels = save['test_labels']\n",
    "  del save  # hint to help gc free up memory\n",
    "  print('Training set', train_dataset.shape, train_labels.shape)\n",
    "  print('Validation set', valid_dataset.shape, valid_labels.shape)\n",
    "  print('Test set', test_dataset.shape, test_labels.shape)"
   ]
  },
  {
   "cell_type": "markdown",
   "metadata": {
    "colab_type": "text",
    "id": "L7aHrm6nGDMB"
   },
   "source": [
    "Reformat into a shape that's more adapted to the models we're going to train:\n",
    "- data as a flat matrix,\n",
    "- labels as float 1-hot encodings."
   ]
  },
  {
   "cell_type": "code",
   "execution_count": 15,
   "metadata": {
    "cellView": "both",
    "colab": {
     "autoexec": {
      "startup": false,
      "wait_interval": 0.0
     },
     "output_extras": [
      {
       "item_id": 1.0
      }
     ]
    },
    "colab_type": "code",
    "collapsed": false,
    "executionInfo": {
     "elapsed": 11728.0,
     "status": "ok",
     "timestamp": 1.449849322356E12,
     "user": {
      "color": "",
      "displayName": "",
      "isAnonymous": false,
      "isMe": true,
      "permissionId": "",
      "photoUrl": "",
      "sessionId": "0",
      "userId": ""
     },
     "user_tz": 480.0
    },
    "id": "IRSyYiIIGIzS",
    "outputId": "3f8996ee-3574-4f44-c953-5c8a04636582"
   },
   "outputs": [
    {
     "name": "stdout",
     "output_type": "stream",
     "text": [
      "Training set (200000, 784) (200000, 10)\n",
      "Validation set (10000, 784) (10000, 10)\n",
      "Test set (10000, 784) (10000, 10)\n"
     ]
    }
   ],
   "source": [
    "IMAGE_SIZE = 28\n",
    "NUM_LABELS = 10\n",
    "\n",
    "\n",
    "def reformat(dataset, labels):\n",
    "  dataset = dataset.reshape((-1, IMAGE_SIZE * IMAGE_SIZE)).astype(np.float32)\n",
    "  # Map 1 to [0.0, 1.0, 0.0 ...], 2 to [0.0, 0.0, 1.0 ...]\n",
    "  labels = (np.arange(NUM_LABELS) == labels[:,None]).astype(np.float32)\n",
    "  return dataset, labels\n",
    "train_dataset, train_labels = reformat(train_dataset, train_labels)\n",
    "valid_dataset, valid_labels = reformat(valid_dataset, valid_labels)\n",
    "test_dataset, test_labels = reformat(test_dataset, test_labels)\n",
    "print('Training set', train_dataset.shape, train_labels.shape)\n",
    "print('Validation set', valid_dataset.shape, valid_labels.shape)\n",
    "print('Test set', test_dataset.shape, test_labels.shape)"
   ]
  },
  {
   "cell_type": "code",
   "execution_count": 16,
   "metadata": {
    "cellView": "both",
    "colab": {
     "autoexec": {
      "startup": false,
      "wait_interval": 0.0
     }
    },
    "colab_type": "code",
    "collapsed": true,
    "id": "RajPLaL_ZW6w"
   },
   "outputs": [],
   "source": [
    "def accuracy(predictions, labels):\n",
    "  return (100.0 * np.sum(np.argmax(predictions, 1) == np.argmax(labels, 1))\n",
    "          / predictions.shape[0])"
   ]
  },
  {
   "cell_type": "markdown",
   "metadata": {
    "colab_type": "text",
    "id": "sgLbUAQ1CW-1"
   },
   "source": [
    "---\n",
    "Problem 1\n",
    "---------\n",
    "\n",
    "Introduce and tune L2 regularization for both logistic and neural network models. Remember that L2 amounts to adding a penalty on the norm of the weights to the loss. In TensorFlow, you can compute the L2 loss for a tensor `t` using `nn.l2_loss(t)`. The right amount of regularization should improve your validation / test accuracy.\n",
    "\n",
    "---"
   ]
  },
  {
   "cell_type": "code",
   "execution_count": 33,
   "metadata": {
    "collapsed": true
   },
   "outputs": [],
   "source": [
    "def log_reg(batch_size, num_steps, beta=0.01, limit_batch=False):\n",
    "  print(\"No layer - Stochastic Gradient Descent\")\n",
    "  graph = tf.Graph()\n",
    "  with graph.as_default():\n",
    "    # Input data. For the training data, we use a placeholder that will be fed\n",
    "    # at run time with a training minibatch.\n",
    "    tf_train_dataset = tf.placeholder(tf.float32, shape=(batch_size, IMAGE_SIZE * IMAGE_SIZE))\n",
    "    tf_train_labels = tf.placeholder(tf.float32, shape=(batch_size, NUM_LABELS))\n",
    "    tf_valid_dataset = tf.constant(valid_dataset)\n",
    "    tf_test_dataset = tf.constant(test_dataset)\n",
    "    # Variables.\n",
    "    weights = tf.Variable(tf.truncated_normal([IMAGE_SIZE * IMAGE_SIZE, NUM_LABELS]))\n",
    "    biases = tf.Variable(tf.zeros([NUM_LABELS]))\n",
    "    logits = tf.matmul(tf_train_dataset, weights) + biases\n",
    "    loss = tf.reduce_mean(tf.nn.softmax_cross_entropy_with_logits(labels=tf_train_labels, logits=logits))\n",
    "    l2_loss = tf.nn.l2_loss(weights)\n",
    "    loss = tf.add(loss, beta * l2_loss)\n",
    "    # Optimizer.\n",
    "    # We are going to find the minimum of this loss using gradient descent.\n",
    "    optimizer = tf.train.GradientDescentOptimizer(0.5).minimize(loss)\n",
    "    # Predictions for the training, validation, and test data.\n",
    "    train_prediction = tf.nn.softmax(logits)\n",
    "    valid_prediction = tf.nn.softmax(tf.matmul(tf_valid_dataset, weights) + biases)\n",
    "    test_prediction = tf.nn.softmax(tf.matmul(tf_test_dataset, weights) + biases)\n",
    "\n",
    "  if limit_batch:\n",
    "    tr_dataset = train_dataset[:500, :]\n",
    "    tr_labels = train_labels[:500, :]\n",
    "  else:\n",
    "    tr_dataset = train_dataset\n",
    "    tr_labels = train_labels\n",
    "  with tf.Session(graph=graph) as session:\n",
    "    tf.global_variables_initializer().run()\n",
    "    print(\"Initialized\")\n",
    "    for step in range(num_steps):\n",
    "      # Pick an offset within the training data, which has been randomized.\n",
    "      # Note: we could use better randomization across epochs.\n",
    "      offset = (step * batch_size) % (tr_labels.shape[0] - batch_size)\n",
    "      batch_data = tr_dataset[offset:(offset + batch_size), :]\n",
    "      batch_labels = tr_labels[offset:(offset + batch_size), :]\n",
    "      # Prepare a dictionary telling the session where to feed the minibatch.\n",
    "      # The key of the dictionary is the placeholder node of the graph to be fed,\n",
    "      # and the value is the numpy array to feed to it.\n",
    "      feed_dict = {tf_train_dataset: batch_data, tf_train_labels: batch_labels}\n",
    "      __, l, t_pred = session.run([optimizer, loss, train_prediction], feed_dict=feed_dict)\n",
    "      if step % 500 == 0:\n",
    "        print(\"Loss at step %d: %f\" % (step, l))\n",
    "        print(\"Training Accuracy: %.1f\" % accuracy(t_pred, batch_labels))\n",
    "        print(\"Validation Accuracy: %.1f\" % accuracy(valid_prediction.eval(), valid_labels))\n",
    "    print(\"Test Accuracy: %.1f\" % accuracy(test_prediction.eval(), test_labels))\n",
    "\n",
    "\n",
    "def nn_1_hidden_layer(batch_size, num_steps, beta=0.01, use_drop_out=False, use_adaptive_rate=True, limit_batch=False):\n",
    "  print(\"1 layer - Neural Network\")\n",
    "  graph = tf.Graph()\n",
    "  with graph.as_default():\n",
    "    keep_prob = tf.placeholder(tf.float32)\n",
    "\n",
    "    def forward_propagate_dropout(inp_layer):\n",
    "      # Hidden layer\n",
    "      hidden_input = tf.nn.dropout(tf.nn.relu(tf.matmul(inp_layer, input_weights) + input_biases), keep_prob)\n",
    "      # Output Layer\n",
    "      return tf.matmul(hidden_input, hidden_weights) + hidden_biases\n",
    "\n",
    "    def forward_propagate(inp_layer):\n",
    "      # Hidden layer\n",
    "      hidden_input = tf.nn.relu(tf.matmul(inp_layer, input_weights) + input_biases)\n",
    "      # Output Layer\n",
    "      return tf.matmul(hidden_input, hidden_weights) + hidden_biases\n",
    "\n",
    "    # Input data. For the training data, we use a placeholder that will be fed\n",
    "    # at run time with a training minibatch.\n",
    "    tf_train_dataset = tf.placeholder(tf.float32, shape=(batch_size, IMAGE_SIZE * IMAGE_SIZE))\n",
    "    tf_train_labels = tf.placeholder(tf.float32, shape=(batch_size, NUM_LABELS))\n",
    "    tf_valid_dataset = tf.constant(valid_dataset)\n",
    "    tf_test_dataset = tf.constant(test_dataset)\n",
    "    # Variables.\n",
    "    input_weights = tf.Variable(tf.truncated_normal([IMAGE_SIZE * IMAGE_SIZE, NUM_LABELS]))\n",
    "    input_biases = tf.Variable(tf.zeros([NUM_LABELS]))\n",
    "    hidden_weights = tf.Variable(tf.truncated_normal([NUM_LABELS, NUM_LABELS]))\n",
    "    hidden_biases = tf.Variable(tf.zeros([NUM_LABELS]))\n",
    "    # Forward Propagation\n",
    "    if use_drop_out:\n",
    "      logits = forward_propagate_dropout(tf_train_dataset)\n",
    "    else:\n",
    "      logits = forward_propagate(tf_train_dataset)\n",
    "    # Back propagation\n",
    "    l2_loss = tf.nn.l2_loss(input_weights) + tf.nn.l2_loss(input_biases) +\\\n",
    "              tf.nn.l2_loss(hidden_weights) + tf.nn.l2_loss(hidden_biases)\n",
    "\n",
    "    loss = tf.reduce_mean(tf.nn.softmax_cross_entropy_with_logits(labels=tf_train_labels, logits=logits) + beta*l2_loss)\n",
    "    if use_adaptive_rate:\n",
    "      global_step = tf.Variable(0)  # count the number of steps taken.\n",
    "      learning_rate = tf.train.exponential_decay(0.5, global_step, 1000, 0.90, staircase=True)\n",
    "      optimizer = tf.train.GradientDescentOptimizer(learning_rate).minimize(loss, global_step=global_step)\n",
    "    else:\n",
    "      optimizer = tf.train.GradientDescentOptimizer(0.5).minimize(loss)\n",
    "    # Predictions\n",
    "    train_predictions = tf.nn.softmax(logits)\n",
    "    # Drop outs should only be used on training.\n",
    "    valid_predictions = tf.nn.softmax(forward_propagate(tf_valid_dataset))\n",
    "    test_predictions = tf.nn.softmax(forward_propagate(tf_test_dataset))\n",
    "\n",
    "  if limit_batch:\n",
    "    tr_dataset = train_dataset[:500, :]\n",
    "    tr_labels = train_labels[:500, :]\n",
    "  else:\n",
    "    tr_dataset = train_dataset\n",
    "    tr_labels = train_labels\n",
    "  with tf.Session(graph=graph) as session:\n",
    "    tf.global_variables_initializer().run()\n",
    "    print(\"Initialized\")\n",
    "    for step in range(num_steps):\n",
    "      offset = (step * batch_size) % (tr_labels.shape[0] - batch_size)\n",
    "      batch_data = tr_dataset[offset:(batch_size + offset), :]\n",
    "      batch_labels = tr_labels[offset:(batch_size + offset), :]\n",
    "      feed_dict = {tf_train_dataset: batch_data, tf_train_labels: batch_labels, keep_prob: 0.5}\n",
    "      _, l, t_pred = session.run([optimizer, loss, train_predictions], feed_dict=feed_dict)\n",
    "      if step % 500 == 0:\n",
    "        print(\"Loss at step %d: %f\" % (step, l))\n",
    "        print(\"Training Accuracy: %.1f\" % accuracy(t_pred, batch_labels))\n",
    "        print(\"Validation Accuracy: %.1f\" % accuracy(valid_predictions.eval(), valid_labels))\n",
    "    print(\"Test Accuracy: %.1f\" % accuracy(test_predictions.eval(), test_labels))"
   ]
  },
  {
   "cell_type": "code",
   "execution_count": 25,
   "metadata": {
    "collapsed": false
   },
   "outputs": [
    {
     "name": "stdout",
     "output_type": "stream",
     "text": [
      "No layer - Stochastic Gradient Descent\n",
      "Initialized\n",
      "Loss at step 0: 46.406380\n",
      "Training Accuracy: 10.2\n",
      "Validation Accuracy: 18.2\n",
      "Loss at step 500: 0.741205\n",
      "Training Accuracy: 86.7\n",
      "Validation Accuracy: 81.4\n",
      "Loss at step 1000: 0.801190\n",
      "Training Accuracy: 80.5\n",
      "Validation Accuracy: 81.3\n",
      "Loss at step 1500: 0.566124\n",
      "Training Accuracy: 83.6\n",
      "Validation Accuracy: 81.1\n",
      "Loss at step 2000: 0.648383\n",
      "Training Accuracy: 88.3\n",
      "Validation Accuracy: 81.2\n",
      "Loss at step 2500: 0.782495\n",
      "Training Accuracy: 78.9\n",
      "Validation Accuracy: 81.1\n",
      "Loss at step 3000: 0.784393\n",
      "Training Accuracy: 80.5\n",
      "Validation Accuracy: 81.4\n",
      "Test Accuracy: 88.6\n"
     ]
    }
   ],
   "source": [
    "log_reg(128, 3001)"
   ]
  },
  {
   "cell_type": "code",
   "execution_count": 26,
   "metadata": {
    "collapsed": false
   },
   "outputs": [
    {
     "name": "stdout",
     "output_type": "stream",
     "text": [
      "1 layer - Neural Network\n",
      "Initialized\n",
      "Loss at step 0: 71.835327\n",
      "Training Accuracy: 11.7\n",
      "Validation Accuracy: 9.8\n",
      "Loss at step 500: 0.809852\n",
      "Training Accuracy: 86.7\n",
      "Validation Accuracy: 81.0\n",
      "Loss at step 1000: 0.838202\n",
      "Training Accuracy: 78.1\n",
      "Validation Accuracy: 81.0\n",
      "Loss at step 1500: 0.634662\n",
      "Training Accuracy: 82.8\n",
      "Validation Accuracy: 82.1\n",
      "Loss at step 2000: 0.652933\n",
      "Training Accuracy: 88.3\n",
      "Validation Accuracy: 81.1\n",
      "Loss at step 2500: 0.786181\n",
      "Training Accuracy: 79.7\n",
      "Validation Accuracy: 81.2\n",
      "Loss at step 3000: 0.803890\n",
      "Training Accuracy: 80.5\n",
      "Validation Accuracy: 82.3\n",
      "Test Accuracy: 89.4\n"
     ]
    }
   ],
   "source": [
    "nn_1_hidden_layer(128, 3001)"
   ]
  },
  {
   "cell_type": "markdown",
   "metadata": {
    "colab_type": "text",
    "id": "na8xX2yHZzNF"
   },
   "source": [
    "---\n",
    "Problem 2\n",
    "---------\n",
    "Let's demonstrate an extreme case of overfitting. Restrict your training data to just a few batches. What happens?\n",
    "\n",
    "---"
   ]
  },
  {
   "cell_type": "code",
   "execution_count": 27,
   "metadata": {
    "collapsed": false
   },
   "outputs": [
    {
     "name": "stdout",
     "output_type": "stream",
     "text": [
      "No layer - Stochastic Gradient Descent\n",
      "Initialized\n",
      "Loss at step 0: 50.308567\n",
      "Training Accuracy: 7.8\n",
      "Validation Accuracy: 11.2\n",
      "Loss at step 500: 0.607057\n",
      "Training Accuracy: 95.3\n",
      "Validation Accuracy: 77.2\n",
      "Loss at step 1000: 0.344723\n",
      "Training Accuracy: 98.4\n",
      "Validation Accuracy: 77.7\n",
      "Loss at step 1500: 0.292393\n",
      "Training Accuracy: 99.2\n",
      "Validation Accuracy: 77.7\n",
      "Loss at step 2000: 0.278202\n",
      "Training Accuracy: 99.2\n",
      "Validation Accuracy: 77.9\n",
      "Loss at step 2500: 0.290909\n",
      "Training Accuracy: 99.2\n",
      "Validation Accuracy: 77.9\n",
      "Loss at step 3000: 0.291176\n",
      "Training Accuracy: 99.2\n",
      "Validation Accuracy: 78.0\n",
      "Test Accuracy: 85.1\n"
     ]
    }
   ],
   "source": [
    "log_reg(128, 3001, limit_batch=True)"
   ]
  },
  {
   "cell_type": "code",
   "execution_count": 28,
   "metadata": {
    "collapsed": false
   },
   "outputs": [
    {
     "name": "stdout",
     "output_type": "stream",
     "text": [
      "1 layer - Neural Network\n",
      "Initialized\n",
      "Loss at step 0: 61.522331\n",
      "Training Accuracy: 12.5\n",
      "Validation Accuracy: 14.1\n",
      "Loss at step 500: 0.707615\n",
      "Training Accuracy: 92.2\n",
      "Validation Accuracy: 75.7\n",
      "Loss at step 1000: 0.377701\n",
      "Training Accuracy: 96.9\n",
      "Validation Accuracy: 76.8\n",
      "Loss at step 1500: 0.316496\n",
      "Training Accuracy: 99.2\n",
      "Validation Accuracy: 76.6\n",
      "Loss at step 2000: 0.300520\n",
      "Training Accuracy: 100.0\n",
      "Validation Accuracy: 77.1\n",
      "Loss at step 2500: 0.304183\n",
      "Training Accuracy: 100.0\n",
      "Validation Accuracy: 77.2\n",
      "Loss at step 3000: 0.306017\n",
      "Training Accuracy: 100.0\n",
      "Validation Accuracy: 77.4\n",
      "Test Accuracy: 84.5\n"
     ]
    }
   ],
   "source": [
    "nn_1_hidden_layer(128, 3001, limit_batch=True)"
   ]
  },
  {
   "cell_type": "markdown",
   "metadata": {
    "colab_type": "text",
    "id": "ww3SCBUdlkRc"
   },
   "source": [
    "---\n",
    "Problem 3\n",
    "---------\n",
    "Introduce Dropout on the hidden layer of the neural network. Remember: Dropout should only be introduced during training, not evaluation, otherwise your evaluation results would be stochastic as well. TensorFlow provides `nn.dropout()` for that, but you have to make sure it's only inserted during training.\n",
    "\n",
    "What happens to our extreme overfitting case?\n",
    "\n",
    "---"
   ]
  },
  {
   "cell_type": "code",
   "execution_count": 31,
   "metadata": {
    "collapsed": false
   },
   "outputs": [
    {
     "name": "stdout",
     "output_type": "stream",
     "text": [
      "1 layer - Neural Network\n",
      "Initialized\n",
      "Loss at step 0: 85.289536\n",
      "Training Accuracy: 7.0\n",
      "Validation Accuracy: 18.5\n",
      "Loss at step 500: 1.681799\n",
      "Training Accuracy: 46.9\n",
      "Validation Accuracy: 77.3\n",
      "Loss at step 1000: 1.560479\n",
      "Training Accuracy: 46.1\n",
      "Validation Accuracy: 76.6\n",
      "Loss at step 1500: 1.373979\n",
      "Training Accuracy: 52.3\n",
      "Validation Accuracy: 75.1\n",
      "Loss at step 2000: 1.291222\n",
      "Training Accuracy: 58.6\n",
      "Validation Accuracy: 78.3\n",
      "Loss at step 2500: 1.512837\n",
      "Training Accuracy: 50.0\n",
      "Validation Accuracy: 79.1\n",
      "Loss at step 3000: 1.389850\n",
      "Training Accuracy: 53.9\n",
      "Validation Accuracy: 77.9\n",
      "Test Accuracy: 85.5\n"
     ]
    }
   ],
   "source": [
    "nn_1_hidden_layer(128, 3001, use_drop_out=True)"
   ]
  },
  {
   "cell_type": "code",
   "execution_count": 32,
   "metadata": {
    "collapsed": false
   },
   "outputs": [
    {
     "name": "stdout",
     "output_type": "stream",
     "text": [
      "1 layer - Neural Network\n",
      "Initialized\n",
      "Loss at step 0: 70.625610\n",
      "Training Accuracy: 12.5\n",
      "Validation Accuracy: 13.8\n",
      "Loss at step 500: 1.599519\n",
      "Training Accuracy: 49.2\n",
      "Validation Accuracy: 70.1\n",
      "Loss at step 1000: 1.439640\n",
      "Training Accuracy: 52.3\n",
      "Validation Accuracy: 77.0\n",
      "Loss at step 1500: 1.419824\n",
      "Training Accuracy: 50.0\n",
      "Validation Accuracy: 77.7\n",
      "Loss at step 2000: 1.392259\n",
      "Training Accuracy: 55.5\n",
      "Validation Accuracy: 79.0\n",
      "Loss at step 2500: 1.563864\n",
      "Training Accuracy: 47.7\n",
      "Validation Accuracy: 77.0\n",
      "Loss at step 3000: 1.654648\n",
      "Training Accuracy: 43.0\n",
      "Validation Accuracy: 71.9\n",
      "Test Accuracy: 78.7\n"
     ]
    }
   ],
   "source": [
    "nn_1_hidden_layer(128, 3001, use_drop_out=True, limit_batch=False)"
   ]
  },
  {
   "cell_type": "markdown",
   "metadata": {
    "colab_type": "text",
    "id": "-b1hTz3VWZjw"
   },
   "source": [
    "---\n",
    "Problem 4\n",
    "---------\n",
    "\n",
    "Try to get the best performance you can using a multi-layer model! The best reported test accuracy using a deep network is [97.1%](http://yaroslavvb.blogspot.com/2011/09/notmnist-dataset.html?showComment=1391023266211#c8758720086795711595).\n",
    "\n",
    "One avenue you can explore is to add multiple layers.\n",
    "\n",
    "Another one is to use learning rate decay:\n",
    "\n",
    "    global_step = tf.Variable(0)  # count the number of steps taken.\n",
    "    learning_rate = tf.train.exponential_decay(0.5, global_step, ...)\n",
    "    optimizer = tf.train.GradientDescentOptimizer(learning_rate).minimize(loss, global_step=global_step)\n",
    " \n",
    " ---\n"
   ]
  },
  {
   "cell_type": "code",
   "execution_count": 34,
   "metadata": {
    "collapsed": false
   },
   "outputs": [
    {
     "name": "stdout",
     "output_type": "stream",
     "text": [
      "1 layer - Neural Network\n",
      "Initialized\n",
      "Loss at step 0: 75.945084\n",
      "Training Accuracy: 10.2\n",
      "Validation Accuracy: 15.7\n",
      "Loss at step 500: 0.837187\n",
      "Training Accuracy: 84.4\n",
      "Validation Accuracy: 80.5\n",
      "Loss at step 1000: 0.774428\n",
      "Training Accuracy: 81.2\n",
      "Validation Accuracy: 81.0\n",
      "Loss at step 1500: 0.632799\n",
      "Training Accuracy: 82.8\n",
      "Validation Accuracy: 82.1\n",
      "Loss at step 2000: 0.668538\n",
      "Training Accuracy: 85.9\n",
      "Validation Accuracy: 81.7\n",
      "Loss at step 2500: 0.771436\n",
      "Training Accuracy: 80.5\n",
      "Validation Accuracy: 81.5\n",
      "Loss at step 3000: 0.810591\n",
      "Training Accuracy: 78.9\n",
      "Validation Accuracy: 82.3\n",
      "Test Accuracy: 89.2\n"
     ]
    }
   ],
   "source": [
    "nn_1_hidden_layer(128, 3001, use_drop_out=False, use_adaptive_rate=True)"
   ]
  },
  {
   "cell_type": "code",
   "execution_count": null,
   "metadata": {
    "collapsed": true
   },
   "outputs": [],
   "source": [
    ""
   ]
  }
 ],
 "metadata": {
  "colab": {
   "default_view": {},
   "name": "3_regularization.ipynb",
   "provenance": [],
   "version": "0.3.2",
   "views": {}
  },
  "kernelspec": {
   "display_name": "Python 2",
   "language": "python",
   "name": "python2"
  },
  "language_info": {
   "codemirror_mode": {
    "name": "ipython",
    "version": 2.0
   },
   "file_extension": ".py",
   "mimetype": "text/x-python",
   "name": "python",
   "nbconvert_exporter": "python",
   "pygments_lexer": "ipython2",
   "version": "2.7.12"
  }
 },
 "nbformat": 4,
 "nbformat_minor": 0
}